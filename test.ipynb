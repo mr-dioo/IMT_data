{
 "cells": [
  {
   "cell_type": "code",
   "execution_count": 3,
   "metadata": {},
   "outputs": [],
   "source": [
    "import pandas as pd \n",
    "import matplotlib.pyplot as plt \n",
    "\n"
   ]
  },
  {
   "cell_type": "code",
   "execution_count": 5,
   "metadata": {},
   "outputs": [],
   "source": [
    "df = pd.read_csv(\"./PreferenceExtract-0317580289.csv\")"
   ]
  },
  {
   "cell_type": "code",
   "execution_count": 6,
   "metadata": {},
   "outputs": [
    {
     "data": {
      "text/html": [
       "<div>\n",
       "<style scoped>\n",
       "    .dataframe tbody tr th:only-of-type {\n",
       "        vertical-align: middle;\n",
       "    }\n",
       "\n",
       "    .dataframe tbody tr th {\n",
       "        vertical-align: top;\n",
       "    }\n",
       "\n",
       "    .dataframe thead th {\n",
       "        text-align: right;\n",
       "    }\n",
       "</style>\n",
       "<table border=\"1\" class=\"dataframe\">\n",
       "  <thead>\n",
       "    <tr style=\"text-align: right;\">\n",
       "      <th></th>\n",
       "      <th>Current Assigned Rank</th>\n",
       "      <th>Preference</th>\n",
       "      <th>Start Date</th>\n",
       "      <th>Duration</th>\n",
       "      <th>Grade</th>\n",
       "      <th>Region</th>\n",
       "      <th>Sub-Region</th>\n",
       "      <th>Area(Sector)</th>\n",
       "      <th>Dual Training Programme</th>\n",
       "      <th>Places Available</th>\n",
       "      <th>Description</th>\n",
       "      <th>Programme Name</th>\n",
       "      <th>Programme Number</th>\n",
       "      <th>Tags</th>\n",
       "      <th>WTE</th>\n",
       "    </tr>\n",
       "  </thead>\n",
       "  <tbody>\n",
       "    <tr>\n",
       "      <th>0</th>\n",
       "      <td>1</td>\n",
       "      <td>London -  North London - North West London - I...</td>\n",
       "      <td>06/08/2025 00:00:00</td>\n",
       "      <td>36</td>\n",
       "      <td>Core Training Year 1</td>\n",
       "      <td>London</td>\n",
       "      <td>North London</td>\n",
       "      <td>North West London</td>\n",
       "      <td>NaN</td>\n",
       "      <td>1</td>\n",
       "      <td>IMT Year 1: The Hillingdon Hospital Hospitals ...</td>\n",
       "      <td>Internal Medicine Training Stage 1 North West LDN</td>\n",
       "      <td>LON4114</td>\n",
       "      <td>Acute Internal Medicine,Gastroenterology,Geria...</td>\n",
       "      <td>1.0</td>\n",
       "    </tr>\n",
       "    <tr>\n",
       "      <th>1</th>\n",
       "      <td>2</td>\n",
       "      <td>London -  North London - North West London - I...</td>\n",
       "      <td>06/08/2025 00:00:00</td>\n",
       "      <td>36</td>\n",
       "      <td>Core Training Year 1</td>\n",
       "      <td>London</td>\n",
       "      <td>North London</td>\n",
       "      <td>North West London</td>\n",
       "      <td>NaN</td>\n",
       "      <td>1</td>\n",
       "      <td>IMT Year 1: Imperial College Healthcare NHS Tr...</td>\n",
       "      <td>Internal Medicine Training Stage 1 North West LDN</td>\n",
       "      <td>LON4114</td>\n",
       "      <td>Acute Internal Medicine,Geriatric Medicine,Int...</td>\n",
       "      <td>1.0</td>\n",
       "    </tr>\n",
       "    <tr>\n",
       "      <th>2</th>\n",
       "      <td>3</td>\n",
       "      <td>London -  North London - North West London - I...</td>\n",
       "      <td>06/08/2025 00:00:00</td>\n",
       "      <td>36</td>\n",
       "      <td>Core Training Year 1</td>\n",
       "      <td>London</td>\n",
       "      <td>North London</td>\n",
       "      <td>North West London</td>\n",
       "      <td>NaN</td>\n",
       "      <td>1</td>\n",
       "      <td>IMT Year 1: Imperial College Healthcare NHS Tr...</td>\n",
       "      <td>Internal Medicine Training Stage 1 North West LDN</td>\n",
       "      <td>LON4114</td>\n",
       "      <td>Acute Internal Medicine,Geriatric Medicine,Int...</td>\n",
       "      <td>1.0</td>\n",
       "    </tr>\n",
       "    <tr>\n",
       "      <th>3</th>\n",
       "      <td>4</td>\n",
       "      <td>London -  North London - North West London - I...</td>\n",
       "      <td>06/08/2025 00:00:00</td>\n",
       "      <td>36</td>\n",
       "      <td>Core Training Year 1</td>\n",
       "      <td>London</td>\n",
       "      <td>North London</td>\n",
       "      <td>North West London</td>\n",
       "      <td>NaN</td>\n",
       "      <td>1</td>\n",
       "      <td>IMT Year 1: Chelsea and Westminster Hospital a...</td>\n",
       "      <td>Internal Medicine Training Stage 1 North West LDN</td>\n",
       "      <td>LON4114</td>\n",
       "      <td>Acute Internal Medicine,Geriatric Medicine,Int...</td>\n",
       "      <td>1.0</td>\n",
       "    </tr>\n",
       "    <tr>\n",
       "      <th>4</th>\n",
       "      <td>5</td>\n",
       "      <td>London -  North London - North West London - I...</td>\n",
       "      <td>06/08/2025 00:00:00</td>\n",
       "      <td>36</td>\n",
       "      <td>Core Training Year 1</td>\n",
       "      <td>London</td>\n",
       "      <td>North London</td>\n",
       "      <td>North West London</td>\n",
       "      <td>NaN</td>\n",
       "      <td>1</td>\n",
       "      <td>IMT Year 1: Imperial College Healthcare NHS Tr...</td>\n",
       "      <td>Internal Medicine Training Stage 1 North West LDN</td>\n",
       "      <td>LON4114</td>\n",
       "      <td>Acute Internal Medicine,Gastroenterology,Geria...</td>\n",
       "      <td>1.0</td>\n",
       "    </tr>\n",
       "  </tbody>\n",
       "</table>\n",
       "</div>"
      ],
      "text/plain": [
       "  Current Assigned Rank                                         Preference  \\\n",
       "0                     1  London -  North London - North West London - I...   \n",
       "1                     2  London -  North London - North West London - I...   \n",
       "2                     3  London -  North London - North West London - I...   \n",
       "3                     4  London -  North London - North West London - I...   \n",
       "4                     5  London -  North London - North West London - I...   \n",
       "\n",
       "            Start Date  Duration                 Grade  Region    Sub-Region  \\\n",
       "0  06/08/2025 00:00:00        36  Core Training Year 1  London  North London   \n",
       "1  06/08/2025 00:00:00        36  Core Training Year 1  London  North London   \n",
       "2  06/08/2025 00:00:00        36  Core Training Year 1  London  North London   \n",
       "3  06/08/2025 00:00:00        36  Core Training Year 1  London  North London   \n",
       "4  06/08/2025 00:00:00        36  Core Training Year 1  London  North London   \n",
       "\n",
       "        Area(Sector) Dual Training Programme  Places Available  \\\n",
       "0  North West London                     NaN                 1   \n",
       "1  North West London                     NaN                 1   \n",
       "2  North West London                     NaN                 1   \n",
       "3  North West London                     NaN                 1   \n",
       "4  North West London                     NaN                 1   \n",
       "\n",
       "                                         Description  \\\n",
       "0  IMT Year 1: The Hillingdon Hospital Hospitals ...   \n",
       "1  IMT Year 1: Imperial College Healthcare NHS Tr...   \n",
       "2  IMT Year 1: Imperial College Healthcare NHS Tr...   \n",
       "3  IMT Year 1: Chelsea and Westminster Hospital a...   \n",
       "4  IMT Year 1: Imperial College Healthcare NHS Tr...   \n",
       "\n",
       "                                      Programme Name Programme Number  \\\n",
       "0  Internal Medicine Training Stage 1 North West LDN          LON4114   \n",
       "1  Internal Medicine Training Stage 1 North West LDN          LON4114   \n",
       "2  Internal Medicine Training Stage 1 North West LDN          LON4114   \n",
       "3  Internal Medicine Training Stage 1 North West LDN          LON4114   \n",
       "4  Internal Medicine Training Stage 1 North West LDN          LON4114   \n",
       "\n",
       "                                                Tags  WTE  \n",
       "0  Acute Internal Medicine,Gastroenterology,Geria...  1.0  \n",
       "1  Acute Internal Medicine,Geriatric Medicine,Int...  1.0  \n",
       "2  Acute Internal Medicine,Geriatric Medicine,Int...  1.0  \n",
       "3  Acute Internal Medicine,Geriatric Medicine,Int...  1.0  \n",
       "4  Acute Internal Medicine,Gastroenterology,Geria...  1.0  "
      ]
     },
     "execution_count": 6,
     "metadata": {},
     "output_type": "execute_result"
    }
   ],
   "source": [
    "df.head()\n"
   ]
  },
  {
   "cell_type": "code",
   "execution_count": 9,
   "metadata": {},
   "outputs": [
    {
     "data": {
      "text/plain": [
       "277"
      ]
     },
     "execution_count": 9,
     "metadata": {},
     "output_type": "execute_result"
    }
   ],
   "source": [
    "sum(df.loc[df[\"Region\"] == 'London',\"Places Available\"])\n"
   ]
  },
  {
   "cell_type": "code",
   "execution_count": 22,
   "metadata": {},
   "outputs": [
    {
     "data": {
      "text/plain": [
       "<Axes: xlabel='Region'>"
      ]
     },
     "execution_count": 22,
     "metadata": {},
     "output_type": "execute_result"
    },
    {
     "data": {
      "image/png": "[encoded data removed]",
      "text/plain": [
       "<Figure size 640x480 with 1 Axes>"
      ]
     },
     "metadata": {},
     "output_type": "display_data"
    }
   ],
   "source": [
    "df.loc[:,[\"Region\" ,\"Places Available\"]].groupby(\"Region\").sum().plot(kind='bar')\n",
    "\n",
    "\n"
   ]
  }
 ],
 "metadata": {
  "kernelspec": {
   "display_name": "Python 3",
   "language": "python",
   "name": "python3"
  },
  "language_info": {
   "codemirror_mode": {
    "name": "ipython",
    "version": 3
   },
   "file_extension": ".py",
   "mimetype": "text/x-python",
   "name": "python",
   "nbconvert_exporter": "python",
   "pygments_lexer": "ipython3",
   "version": "3.12.1"
  }
 },
 "nbformat": 4,
 "nbformat_minor": 2
}
